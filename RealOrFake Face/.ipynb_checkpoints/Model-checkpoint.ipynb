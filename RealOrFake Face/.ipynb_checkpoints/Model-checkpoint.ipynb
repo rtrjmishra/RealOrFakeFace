{
 "cells": [
  {
   "cell_type": "code",
   "execution_count": null,
   "id": "6e9bd0ad",
   "metadata": {},
   "outputs": [],
   "source": [
    "from tensorflow.keras.preprocessing.image import ImageDataGenerator\n",
    "from tensorflow.keras.applications import MobileNetV2\n",
    "from tensorflow.keras.layers import AveragePooling2D\n",
    "from tensorflow.keras.layers import Dropout\n",
    "from tensorflow.keras.layers import Flatten\n",
    "from tensorflow.keras.layers import Dense\n",
    "from tensorflow.keras.layers import Input\n",
    "from tensorflow.keras.models import Model\n",
    "from tensorflow.keras.optimizers import Adam\n",
    "from tensorflow.keras.applications.mobilenet_v2 import preprocess_input\n",
    "from tensorflow.keras.preprocessing.image import img_to_array\n",
    "from tensorflow.keras.preprocessing.image import load_img\n",
    "from tensorflow.keras.utils import to_categorical\n",
    "from sklearn.preprocessing import LabelBinarizer\n",
    "from sklearn.model_selection import train_test_split\n",
    "from sklearn.metrics import classification_report\n",
    "import matplotlib.pyplot as plt\n",
    "import numpy as np\n",
    "import os"
   ]
  },
  {
   "cell_type": "code",
   "execution_count": null,
   "id": "296f9965",
   "metadata": {},
   "outputs": [],
   "source": [
    "learning_rate = 1e-4\n",
    "epochs=20\n",
    "batch_size = 32"
   ]
  },
  {
   "cell_type": "code",
   "execution_count": null,
   "id": "05746895",
   "metadata": {},
   "outputs": [],
   "source": [
    "directory = r\"/Users/rituraj/Desktop/Internship/RealOrFake Face/dataset\"\n",
    "categories = [\"fake\",\"real\"]"
   ]
  },
  {
   "cell_type": "code",
   "execution_count": null,
   "id": "5bd3076d",
   "metadata": {},
   "outputs": [],
   "source": [
    "data=[]\n",
    "labels=[]\n",
    "for category in categories:\n",
    "    path = os.path.join(directory, category)\n",
    "    for img in os.listdir(path):\n",
    "        img_path = os.path.join(path, img)\n",
    "        image = load_img(img_path, target_size=(256, 256))\n",
    "        image = img_to_array(image)\n",
    "        image = preprocess_input(image)\n",
    "\n",
    "        data.append(image)\n",
    "        labels.append(category)"
   ]
  },
  {
   "cell_type": "code",
   "execution_count": null,
   "id": "51a5343f",
   "metadata": {},
   "outputs": [],
   "source": [
    "#ONE HOT ENCODING ON LABELS\n",
    "lb = LabelBinarizer()\n",
    "labels = lb.fit_transform(labels)\n",
    "labels = to_categorical(labels)"
   ]
  },
  {
   "cell_type": "code",
   "execution_count": null,
   "id": "9df53bed",
   "metadata": {},
   "outputs": [],
   "source": [
    "data = np.array(data,dtype='float32')\n",
    "labels = np.array(labels)"
   ]
  },
  {
   "cell_type": "code",
   "execution_count": null,
   "id": "9bff0a92",
   "metadata": {},
   "outputs": [],
   "source": [
    "#SPLITTING\n",
    "X_train, X_test, y_train, y_test = train_test_split(data, labels, test_size=0.20,stratify=labels , random_state=42)"
   ]
  },
  {
   "cell_type": "code",
   "execution_count": null,
   "id": "be04c033",
   "metadata": {},
   "outputs": [],
   "source": [
    "#IMAGE DATA CLASS FOR IMAGE AUGMENTATION\n",
    "augm = ImageDataGenerator(\n",
    "    rotation_range=20,\n",
    "    zoom_range=0.15,\n",
    "    width_shift_range=0.2,\n",
    "    height_shift_range=0.2,\n",
    "    shear_range=0.15,\n",
    "    horizontal_flip=True,\n",
    "    fill_mode=\"nearest\")"
   ]
  },
  {
   "cell_type": "code",
   "execution_count": null,
   "id": "b6639321",
   "metadata": {},
   "outputs": [],
   "source": [
    "#MOBILENETS MODEL\n",
    "baseM = MobileNetV2(weights=\"imagenet\", include_top=False,\n",
    "    input_tensor=Input(shape=(256, 256, 3)))"
   ]
  },
  {
   "cell_type": "code",
   "execution_count": null,
   "id": "de295128",
   "metadata": {},
   "outputs": [],
   "source": [
    "#MODEL Head\n",
    "finalM = baseM.output\n",
    "finalM = AveragePooling2D(pool_size=(7, 7))(finalM)\n",
    "finalM = Flatten(name=\"flatten\")(finalM)\n",
    "finalM = Dense(128, activation=\"relu\")(finalM)\n",
    "finalM = Dropout(0.5)(finalM)\n",
    "finalM = Dense(2, activation=\"softmax\")(finalM)"
   ]
  },
  {
   "cell_type": "code",
   "execution_count": null,
   "id": "4c0b6088",
   "metadata": {},
   "outputs": [],
   "source": []
  }
 ],
 "metadata": {
  "kernelspec": {
   "display_name": "Python 3 (ipykernel)",
   "language": "python",
   "name": "python3"
  },
  "language_info": {
   "codemirror_mode": {
    "name": "ipython",
    "version": 3
   },
   "file_extension": ".py",
   "mimetype": "text/x-python",
   "name": "python",
   "nbconvert_exporter": "python",
   "pygments_lexer": "ipython3",
   "version": "3.8.12"
  }
 },
 "nbformat": 4,
 "nbformat_minor": 5
}
